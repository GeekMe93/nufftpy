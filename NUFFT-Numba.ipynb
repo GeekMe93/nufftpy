{
 "metadata": {
  "name": "",
  "signature": "sha256:a8408d62f38cd4ded13660ee315d381c7b3e423ef07731109dc1aebfadd8a709"
 },
 "nbformat": 3,
 "nbformat_minor": 0,
 "worksheets": [
  {
   "cells": [
    {
     "cell_type": "code",
     "collapsed": false,
     "input": [
      "import numpy as np"
     ],
     "language": "python",
     "metadata": {},
     "outputs": []
    },
    {
     "cell_type": "code",
     "collapsed": false,
     "input": [
      "def nufftfreqs(M, df=1):\n",
      "    \"\"\"Compute the frequency range used in nufft for M frequency bins\"\"\"\n",
      "    return df * np.arange(-(M // 2), M - (M // 2))"
     ],
     "language": "python",
     "metadata": {},
     "outputs": []
    },
    {
     "cell_type": "code",
     "collapsed": false,
     "input": [
      "def _check_inputs(x, c, M, df, iflag):\n",
      "    x = np.asarray(x, dtype=float)\n",
      "    c = np.asarray(c, dtype=complex)\n",
      "    if x.ndim != 1:\n",
      "        raise ValueError(\"Expected one-dimensional input arrays\")\n",
      "    if x.shape != c.shape:\n",
      "        raise ValueError(\"Array shapes must match\")\n",
      "    sign = -1 if iflag < 0 else 1\n",
      "    return x * df, c, int(M), sign\n",
      "\n",
      "\n",
      "def nudft(x, c, M, df=1.0, iflag=1):\n",
      "    \"\"\"Direct (slow) Non-Uniform Fourier Transform\"\"\"\n",
      "    x, c, M, sign = _check_inputs(x, c, M, df, iflag)\n",
      "    return (1 / M) * np.dot(c, np.exp(sign * 1j * nufftfreqs(M) * x[:, None]))"
     ],
     "language": "python",
     "metadata": {},
     "outputs": []
    },
    {
     "cell_type": "code",
     "collapsed": false,
     "input": [
      "def _Msp_Mr_tau(M, eps):\n",
      "    # Choose Msp & tau from eps following Dutt & Rokhlin (1993)\n",
      "    if eps <= 1E-33 or eps >= 1E-1:\n",
      "        raise ValueError(\"eps = {0:.0e}; must satisfy \"\n",
      "                         \"1e-33 < eps < 1e-1.\".format(eps))\n",
      "    ratio = 2 if eps > 1E-11 else 3\n",
      "    Msp = int(-np.log(eps) / (np.pi * (ratio - 1) / (ratio - 0.5)) + 0.5)\n",
      "    Mr = max(ratio * M, 2 * Msp)\n",
      "    lambda_ = Msp / (ratio * (ratio - 0.5))\n",
      "    tau = np.pi * lambda_ / M ** 2\n",
      "    return Msp, Mr, tau\n",
      "\n",
      "\n",
      "def nufft_numpy(x, c, M, df=1.0, iflag=1, eps=1E-15):\n",
      "    \"\"\"Fast Non-Uniform Fourier Transform\"\"\"\n",
      "    x, c, M, sign = _check_inputs(x, c, M, df, iflag)\n",
      "    Msp, Mr, tau = _Msp_Mr_tau(M, eps)\n",
      "\n",
      "    # Construct the convolved grid\n",
      "    ftau = np.zeros(Mr, dtype=c.dtype)\n",
      "    hx = 2 * np.pi / Mr\n",
      "    xmod = x % (2 * np.pi)\n",
      "    m = 1 + (xmod // hx).astype(int) + np.arange(-Msp, Msp)[:, np.newaxis]\n",
      "    spread = c * np.exp(-0.25 * (xmod - hx * m) ** 2 / tau)\n",
      "    np.add.at(ftau, m % Mr, spread)\n",
      "\n",
      "    # Compute the FFT on the convolved grid\n",
      "    if sign < 0:\n",
      "        Ftau = (1 / Mr) * np.fft.fft(ftau)\n",
      "    else:\n",
      "        Ftau = np.fft.ifft(ftau)\n",
      "    Ftau = np.concatenate([Ftau[-(M//2):], Ftau[:M//2 + M % 2]])\n",
      "\n",
      "    # Deconvolve the grid using convolution theorem\n",
      "    k = nufftfreqs(M)\n",
      "    return (1 / M) * np.sqrt(np.pi / tau) * np.exp(tau * k ** 2) * Ftau"
     ],
     "language": "python",
     "metadata": {},
     "outputs": []
    },
    {
     "cell_type": "code",
     "collapsed": false,
     "input": [
      "from numpy.testing import assert_allclose\n",
      "from time import time\n",
      "\n",
      "def test_nufft(nufft_func, M=1000, Mtime=100000):\n",
      "    print(\"testing {0}\".format(nufft_func.__name__))\n",
      "    rng = np.random.RandomState(0)\n",
      "    x = 100 * rng.rand(M)\n",
      "    c = np.sin(x)\n",
      "    for df in [1, 2.0]:\n",
      "        for iflag in [1, -1]:\n",
      "            F1 = nudft(x, c, M, df=df, iflag=iflag)\n",
      "            F2 = nufft_func(x, c, M, df=df, iflag=iflag)\n",
      "            assert_allclose(F1, F2)\n",
      "    print(\"Tests Passed\")\n",
      "    \n",
      "    x = 100 * rng.rand(Mtime)\n",
      "    c = np.sin(x)\n",
      "    times = []\n",
      "    for i in range(5):\n",
      "        t0 = time()\n",
      "        F = nufft_func(x, c, Mtime)\n",
      "        t1 = time()\n",
      "        times.append(t1 - t0)\n",
      "    print(\"Execution for M={0}: {1:.2g} sec\".format(Mtime, np.median(times)))\n",
      "    \n",
      "def run_nufft(nufft_func, M=10000):\n",
      "    rng = np.random.RandomState(0)\n",
      "    x = 100 * rng.rand(M)\n",
      "    c = np.sin(x)\n",
      "    F = nufft_func(x, c, M)"
     ],
     "language": "python",
     "metadata": {},
     "outputs": []
    },
    {
     "cell_type": "code",
     "collapsed": false,
     "input": [
      "test_nufft(nufft_numpy)"
     ],
     "language": "python",
     "metadata": {},
     "outputs": []
    },
    {
     "cell_type": "code",
     "collapsed": false,
     "input": [
      "# http://github.com/dfm/python-nufft\n",
      "from nufft import nufft1\n",
      "test_nufft(nufft1)"
     ],
     "language": "python",
     "metadata": {},
     "outputs": []
    },
    {
     "cell_type": "code",
     "collapsed": false,
     "input": [
      "# !pip install line_profiler\n",
      "%load_ext line_profiler"
     ],
     "language": "python",
     "metadata": {},
     "outputs": []
    },
    {
     "cell_type": "code",
     "collapsed": false,
     "input": [
      "%lprun -s -f nufft_numpy -T lp_results.txt run_nufft(nufft_numpy)\n",
      "%cat lp_results.txt"
     ],
     "language": "python",
     "metadata": {},
     "outputs": []
    },
    {
     "cell_type": "code",
     "collapsed": false,
     "input": [
      "import numba\n",
      "\n",
      "@numba.jit(nopython=True)\n",
      "def build_grid(x, c, tau, Msp, ftau):\n",
      "    Mr = ftau.shape[0]\n",
      "    hx = 2 * np.pi / Mr\n",
      "    for i in range(x.shape[0]):\n",
      "        xi = x[i] % (2 * np.pi)\n",
      "        m = 1 + int(xi // hx)\n",
      "        for mm in range(-Msp, Msp):\n",
      "            ftau[(m + mm) % Mr] += c[i] * np.exp(-0.25 * (xi - hx * (m + mm)) ** 2 / tau)\n",
      "    return ftau\n",
      "\n",
      "\n",
      "def nufft_numba(x, c, M, df=1.0, eps=1E-15, iflag=1):\n",
      "    \"\"\"Fast Non-Uniform Fourier Transform with Numba\"\"\"\n",
      "    x, c, M, sign = _check_inputs(x, c, M, df, iflag)\n",
      "    Msp, Mr, tau = _Msp_Mr_tau(M, eps)\n",
      "    N = len(x)\n",
      "\n",
      "    # Construct the convolved grid\n",
      "    ftau = np.zeros(Mr, dtype=c.dtype)\n",
      "    ftau = build_grid(x, c, tau, Msp, ftau)\n",
      "\n",
      "    # Compute the FFT on the convolved grid\n",
      "    if sign < 0:\n",
      "        Ftau = (1 / Mr) * np.fft.fft(ftau)\n",
      "    else:\n",
      "        Ftau = np.fft.ifft(ftau)\n",
      "    Ftau = np.concatenate([Ftau[-(M//2):], Ftau[:M//2 + M % 2]])\n",
      "\n",
      "    # Deconvolve the grid using convolution theorem\n",
      "    k = nufftfreqs(M)\n",
      "    return (1 / M) * np.sqrt(np.pi / tau) * np.exp(tau * k ** 2) * Ftau"
     ],
     "language": "python",
     "metadata": {},
     "outputs": []
    },
    {
     "cell_type": "code",
     "collapsed": false,
     "input": [
      "test_nufft(nufft_numba)"
     ],
     "language": "python",
     "metadata": {},
     "outputs": []
    },
    {
     "cell_type": "code",
     "collapsed": false,
     "input": [
      "%lprun -s -f nufft_numba -T lp_results.txt run_nufft(nufft_numba)\n",
      "%cat lp_results.txt"
     ],
     "language": "python",
     "metadata": {},
     "outputs": []
    },
    {
     "cell_type": "code",
     "collapsed": false,
     "input": [
      "import numba\n",
      "\n",
      "@numba.jit(nopython=True)\n",
      "def build_grid_fast(x, c, tau, Msp, ftau, E3):\n",
      "    Mr = ftau.shape[0]\n",
      "    hx = 2 * np.pi / Mr\n",
      "    \n",
      "    # precompute some exponents\n",
      "    for j in range(Msp + 1):\n",
      "        E3[j] = np.exp(-(np.pi * j / Mr) ** 2 / tau)\n",
      "        \n",
      "    # spread values onto ftau\n",
      "    for i in range(x.shape[0]):\n",
      "        xi = x[i] % (2 * np.pi)\n",
      "        m = 1 + int(xi // hx)\n",
      "        xi = (xi - hx * m)\n",
      "        E1 = np.exp(-0.25 * xi ** 2 / tau)\n",
      "        E2 = np.exp((xi * np.pi) / (Mr * tau))\n",
      "        E2mm = 1\n",
      "        for mm in range(Msp):\n",
      "            ftau[(m + mm) % Mr] += c[i] * E1 * E2mm * E3[mm]\n",
      "            E2mm *= E2\n",
      "            ftau[(m - mm - 1) % Mr] += c[i] * E1 / E2mm * E3[mm + 1]\n",
      "    return ftau\n",
      "\n",
      "\n",
      "def nufft_numba_fast(x, c, M, df=1.0, eps=1E-15, iflag=1):\n",
      "    \"\"\"Fast Non-Uniform Fourier Transform with Numba\"\"\"\n",
      "    x, c, M, sign = _check_inputs(x, c, M, df, iflag)\n",
      "    Msp, Mr, tau = _Msp_Mr_tau(M, eps)\n",
      "    N = len(x)\n",
      "\n",
      "    # Construct the convolved grid\n",
      "    ftau = np.zeros(Mr, dtype=c.dtype)\n",
      "    E3 = np.zeros(Msp + 1, dtype=x.dtype)\n",
      "    build_grid_fast(x, c, tau, Msp, ftau, E3)\n",
      "\n",
      "    # Compute the FFT on the convolved grid\n",
      "    if sign < 0:\n",
      "        Ftau = (1 / Mr) * np.fft.fft(ftau)\n",
      "    else:\n",
      "        Ftau = np.fft.ifft(ftau)\n",
      "    Ftau = np.concatenate([Ftau[-(M//2):], Ftau[:M//2 + M % 2]])\n",
      "\n",
      "    # Deconvolve the grid using convolution theorem\n",
      "    k = nufftfreqs(M)\n",
      "    return (1 / M) * np.sqrt(np.pi / tau) * np.exp(tau * k ** 2) * Ftau"
     ],
     "language": "python",
     "metadata": {},
     "outputs": []
    },
    {
     "cell_type": "code",
     "collapsed": false,
     "input": [
      "test_nufft(nufft_numba_fast)"
     ],
     "language": "python",
     "metadata": {},
     "outputs": []
    },
    {
     "cell_type": "code",
     "collapsed": false,
     "input": [
      "%lprun -s -f nufft_numba_fast -T lp_results.txt run_nufft(nufft_numba_fast)\n",
      "%cat lp_results.txt"
     ],
     "language": "python",
     "metadata": {},
     "outputs": []
    },
    {
     "cell_type": "code",
     "collapsed": false,
     "input": [
      "Mrange = (2 ** np.arange(3, 18)).astype(int)\n",
      "kwds = dict(eps=1E-8, iflag=-1)\n",
      "\n",
      "t_fortran = []\n",
      "t_numpy = []\n",
      "t_numba = []\n",
      "t_numba_fast = []\n",
      "\n",
      "for M in Mrange:\n",
      "    x = 100 * np.random.random(M)\n",
      "    c = np.exp(1j * x)\n",
      "    \n",
      "    t1 = %timeit -oq nufft1(x, c, M, **kwds)\n",
      "    t2 = %timeit -oq nufft_numpy(x, c, M, **kwds)\n",
      "    t3 = %timeit -oq nufft_numba(x, c, M, **kwds)\n",
      "    t4 = %timeit -oq nufft_numba_fast(x, c, M, **kwds)\n",
      "    \n",
      "    t_fortran.append(t1.best)\n",
      "    t_numpy.append(t2.best)\n",
      "    t_numba.append(t3.best)\n",
      "    t_numba_fast.append(t4.best)"
     ],
     "language": "python",
     "metadata": {},
     "outputs": []
    },
    {
     "cell_type": "code",
     "collapsed": false,
     "input": [
      "%matplotlib inline\n",
      "import matplotlib.pyplot as plt"
     ],
     "language": "python",
     "metadata": {},
     "outputs": []
    },
    {
     "cell_type": "code",
     "collapsed": false,
     "input": [
      "plt.loglog(Mrange, t_numpy, label='numpy')\n",
      "plt.loglog(Mrange, t_numba, label='numba #1')\n",
      "plt.loglog(Mrange, t_numba_fast, label='numba #2')\n",
      "plt.loglog(Mrange, t_fortran, label='nufft fortran')\n",
      "plt.legend(loc='upper left')\n",
      "plt.xlabel('Number of Elements')\n",
      "plt.ylabel('Execution Time (s)');"
     ],
     "language": "python",
     "metadata": {},
     "outputs": []
    },
    {
     "cell_type": "code",
     "collapsed": false,
     "input": [],
     "language": "python",
     "metadata": {},
     "outputs": []
    }
   ],
   "metadata": {}
  }
 ]
}