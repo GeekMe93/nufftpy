{
 "metadata": {
  "name": "",
  "signature": "sha256:07c7f47d3465bc56c7ad110b01adccf7504da8f6cf062fe66a906693c22fc4bf"
 },
 "nbformat": 3,
 "nbformat_minor": 0,
 "worksheets": [
  {
   "cells": [
    {
     "cell_type": "markdown",
     "metadata": {},
     "source": [
      "# Optimizing Python with NumPy and Numba\n",
      "\n",
      "When I come across a fast implementation of a useful numerical algorithm, I find it extremely useful for my own understanding of the algorithm to attempt to re-implement it in Python.\n",
      "If the original implementation is in some compiled language like Fortran or C, the result can be orders-of-magnitude slower.\n",
      "But I've found that with a bit of thought and careful use of available tools, it's often possible to make pure-Python implementations whose speed rivals that of compiled codes.\n",
      "This is nice for a couple reasons:\n",
      "\n",
      "- Python implementations are often higher-level than C and Fortran, and is thus generally easier to read, understand, and tweak.\n",
      "- Pure-python packages are much easier to install than Python-wrapped C or Fortran code, especially on non-Linux systems. Fortran in particular can require some installation steps that are not trivial for beginning coders.\n",
      "- Because it does not require complicated installation, when running code at scale on shared clusters, pure Python code is generally much easier to use than compiled extensions.\n",
      "\n",
      "This post outlines the process of understanding, implementing, and optimizing an algorithm in Python, in the case of the Non-uniform Fast Fourier Transform (NUFFT).\n",
      "Along the way, we'll see how a quick & easy pure Python implementation, with a little help from Numba, can come within a factor of two of a highly-optimized Fortran implementation of this particular algorithm."
     ]
    },
    {
     "cell_type": "markdown",
     "metadata": {},
     "source": [
      "## The Non-Uniform Fast Fourier Transform\n",
      "\n",
      "The Fast Fourier Transform (FFT) is perhaps the most important and fundamental algorithms in modern numerical computing.\n",
      "It provides a fast, $O[N\\log N]$ method of computing the discrete Fourier transform:\n",
      "$$\n",
      "Y_{k \\pm} = \\sum_{n=0}^{N-1} y_n e^{\\pm i k n / N}\n",
      "$$\n",
      "You can read more about the FFT in my [my previous on the subject](https://jakevdp.github.io/blog/2013/08/28/understanding-the-fft/).\n",
      "\n",
      "One important limitation of the FFT is that it requires that input data be evenly-spaced: that is, we can think of the values $y_n$ as samples of a function $y_n = y(x_n)$ where $x_n = x_0 + n\\Delta x$ is a regular grid of points.\n",
      "But what about when your grid is not uniform?\n",
      "That is, what if you want to compute this result:\n",
      "$$\n",
      "Y_{k\\pm} = \\sum_{j=1}^N y(x_j) e^{\\pm i k x_j}\n",
      "$$\n",
      "where $f$ is evaluated at an arbitrary set of points $x_j$?\n",
      "In this case, the FFT is no longer directly applicable, and you're stuck using a much slower $O[N^2]$ direct summation.\n",
      "\n",
      "Stuck, that is, until the NUFFT came along.\n",
      "\n",
      "The NUFFT is a clever algorithm which converts the non-uniform transform into an approximate uniform transform, using a \"gridding\" operation involving convolution with a Gaussian.\n",
      "If you'd like to read about the algorithm in detail, refer to the Courant Institute's [NUFFT page](http://www.cims.nyu.edu/cmcl/nufft/nufft.html)."
     ]
    },
    {
     "cell_type": "markdown",
     "metadata": {},
     "source": [
      "## Direct Non-Uniform Fourier Transform\n",
      "\n",
      "Let's start with a very easy task: implementing a slow direct version of the non-uniform Fourier transform.\n",
      "We'll allow non-uniform inputs, but compute the output on a grid of $M$ evenly-spaced frequencies in the range $-M/2 \\le f/\\delta f < M/2$.\n",
      "This is what the NUFFT group calls the *Type-1 NUFFT*.\n",
      "\n",
      "For later, we'll also make separate utilities for computing the frequency grid and validating inputs. The arguments include ``iflag``, which is a positive or negative number indicating the desired sign of the exponent:"
     ]
    },
    {
     "cell_type": "code",
     "collapsed": false,
     "input": [
      "from __future__ import print_function, division\n",
      "import numpy as np\n",
      "\n",
      "def nufftfreqs(M, df=1):\n",
      "    \"\"\"Compute the frequency range used in nufft for M frequency bins\"\"\"\n",
      "    return df * np.arange(-(M // 2), M - (M // 2))\n",
      "\n",
      "\n",
      "def _check_inputs(x, y, M, df):\n",
      "    x = np.asarray(x, dtype=float)\n",
      "    y = np.asarray(y, dtype=complex)\n",
      "    if x.ndim != 1:\n",
      "        raise ValueError(\"Expected one-dimensional input arrays\")\n",
      "    if x.shape != y.shape:\n",
      "        raise ValueError(\"Array shapes must match\")\n",
      "    \n",
      "    return x * df, y, int(M)\n",
      "\n",
      "\n",
      "def nudft(x, y, M, df=1.0, iflag=1):\n",
      "    \"\"\"Non-Uniform Direct Fourier Transform\"\"\"\n",
      "    x, y, M = _check_inputs(x, y, M, df)\n",
      "    sign = -1 if iflag < 0 else 1\n",
      "    return (1 / len(x)) * np.dot(y, np.exp(sign * 1j * nufftfreqs(M) * x[:, None]))"
     ],
     "language": "python",
     "metadata": {},
     "outputs": []
    },
    {
     "cell_type": "markdown",
     "metadata": {},
     "source": [
      "## Comparing to the Fortran NUFFT"
     ]
    },
    {
     "cell_type": "markdown",
     "metadata": {},
     "source": [
      "We can double-check that this is correct by comparing to the Fortran NUFFT implementation, using wrappers provided at http://github.com/dfm/python-nufft:"
     ]
    },
    {
     "cell_type": "code",
     "collapsed": false,
     "input": [
      "# http://github.com/dfm/python-nufft\n",
      "from nufft import nufft1 as nufft_fortran\n",
      "\n",
      "x = np.random.random(1000)\n",
      "y = np.sin(x)\n",
      "\n",
      "Y1 = nudft(x, y, 1000)\n",
      "Y2 = nufft_fortran(x, y, 1000)\n",
      "\n",
      "np.allclose(Y1, Y2)"
     ],
     "language": "python",
     "metadata": {},
     "outputs": []
    },
    {
     "cell_type": "markdown",
     "metadata": {},
     "source": [
      "The results match! A quick check, though, shows that the Fortran algorithm is orders of magnitude faster:"
     ]
    },
    {
     "cell_type": "code",
     "collapsed": false,
     "input": [
      "%timeit nudft(x, y, 1000)\n",
      "%timeit nufft_fortran(x, y, 1000)"
     ],
     "language": "python",
     "metadata": {},
     "outputs": []
    },
    {
     "cell_type": "markdown",
     "metadata": {},
     "source": [
      "Additionally, for $N$ points and $N$ frequencies, it will scale as $O[N\\log N]$, while our simple implementation will scale as $O[N^2]$.\n",
      "Let's see if we can do better."
     ]
    },
    {
     "cell_type": "markdown",
     "metadata": {},
     "source": [
      "## NUFFT with Python\n",
      "\n",
      "Let's see if we can create a pure-Python version of the fast, FFT-based NUFFT.\n",
      "Here we'll follow the basics of the algorithm presented on the NUFFT page, using NumPy broadcasting tricks to push loops into the compiled layer of NumPy.\n",
      "For later convenience, we'll start by defining a utility to compute the grid parameters as detailed in the NUFFT paper."
     ]
    },
    {
     "cell_type": "code",
     "collapsed": false,
     "input": [
      "def _compute_grid_params(M, eps):\n",
      "    # Choose Msp & tau from eps following Dutt & Rokhlin (1993)\n",
      "    if eps <= 1E-33 or eps >= 1E-1:\n",
      "        raise ValueError(\"eps = {0:.0e}; must satisfy \"\n",
      "                         \"1e-33 < eps < 1e-1.\".format(eps))\n",
      "    ratio = 2 if eps > 1E-11 else 3\n",
      "    Msp = int(-np.log(eps) / (np.pi * (ratio - 1) / (ratio - 0.5)) + 0.5)\n",
      "    Mr = max(ratio * M, 2 * Msp)\n",
      "    lambda_ = Msp / (ratio * (ratio - 0.5))\n",
      "    tau = np.pi * lambda_ / M ** 2\n",
      "    return Msp, Mr, tau\n",
      "\n",
      "\n",
      "def nufft_python(x, c, M, df=1.0, eps=1E-15, iflag=1):\n",
      "    \"\"\"Fast Non-Uniform Fourier Transform with Python\"\"\"\n",
      "    x, c, M = _check_inputs(x, c, M, df)\n",
      "    Msp, Mr, tau = _compute_grid_params(M, eps)\n",
      "    N = len(x)\n",
      "\n",
      "    # Construct the convolved grid\n",
      "    ftau = np.zeros(Mr, dtype=c.dtype)\n",
      "    Mr = ftau.shape[0]\n",
      "    hx = 2 * np.pi / Mr\n",
      "    mm = np.arange(-Msp, Msp)\n",
      "    for i in range(N):\n",
      "        xi = x[i] % (2 * np.pi)\n",
      "        m = 1 + int(xi // hx)\n",
      "        spread = np.exp(-0.25 * (xi - hx * (m + mm)) ** 2 / tau)\n",
      "        ftau[(m + mm) % Mr] += c[i] * spread\n",
      "\n",
      "    # Compute the FFT on the convolved grid\n",
      "    if iflag < 0:\n",
      "        Ftau = (1 / Mr) * np.fft.fft(ftau)\n",
      "    else:\n",
      "        Ftau = np.fft.ifft(ftau)\n",
      "    Ftau = np.concatenate([Ftau[-(M//2):], Ftau[:M//2 + M % 2]])\n",
      "\n",
      "    # Deconvolve the grid using convolution theorem\n",
      "    k = nufftfreqs(M)\n",
      "    return (1 / N) * np.sqrt(np.pi / tau) * np.exp(tau * k ** 2) * Ftau"
     ],
     "language": "python",
     "metadata": {},
     "outputs": []
    },
    {
     "cell_type": "markdown",
     "metadata": {},
     "source": [
      "Let's compare this to the previous results.\n",
      "For convenience, we'll define a single routine which validates the results and times the execution:"
     ]
    },
    {
     "cell_type": "code",
     "collapsed": false,
     "input": [
      "from time import time\n",
      "\n",
      "def test_nufft(nufft_func, M=1000, Mtime=100000):\n",
      "    # Test vs the direct method\n",
      "    print(30 * '-')\n",
      "    name = {'nufft1':'nufft_fortran'}.get(nufft_func.__name__,\n",
      "                                          nufft_func.__name__)\n",
      "    print(\"testing {0}\".format(name))\n",
      "    rng = np.random.RandomState(0)\n",
      "    x = 100 * rng.rand(M + 1)\n",
      "    y = np.sin(x)\n",
      "    for df in [1, 2.0]:\n",
      "        for iflag in [1, -1]:\n",
      "            F1 = nudft(x, y, M, df=df, iflag=iflag)\n",
      "            F2 = nufft_func(x, y, M, df=df, iflag=iflag)\n",
      "            assert np.allclose(F1, F2)\n",
      "    print(\"- Results match the DFT\")\n",
      "    \n",
      "    # Time the nufft function\n",
      "    x = 100 * rng.rand(Mtime)\n",
      "    y = np.sin(x)\n",
      "    times = []\n",
      "    for i in range(5):\n",
      "        t0 = time()\n",
      "        F = nufft_func(x, y, Mtime)\n",
      "        t1 = time()\n",
      "        times.append(t1 - t0)\n",
      "    print(\"- Execution time (M={0}): {1:.2g} sec\".format(Mtime, np.median(times)))"
     ],
     "language": "python",
     "metadata": {},
     "outputs": []
    },
    {
     "cell_type": "code",
     "collapsed": false,
     "input": [
      "test_nufft(nufft_python)\n",
      "test_nufft(nufft_fortran)"
     ],
     "language": "python",
     "metadata": {},
     "outputs": []
    },
    {
     "cell_type": "markdown",
     "metadata": {},
     "source": [
      "The good news is that our Python implementation works; the bad news is that it is orders of magnitude slower than the Fortran result!\n",
      "Let's try to figure out where we're going wrong."
     ]
    },
    {
     "cell_type": "markdown",
     "metadata": {},
     "source": [
      "### Making Code Faster: Line Profiling\n",
      "\n",
      "We'd like to figure out where things are slow.\n",
      "One way to do this is with the ``line_profiler`` utility, a third party addon which can be installed using\n",
      "```\n",
      "$ pip install line_profiler\n",
      "```\n",
      "Once it's installed, we can load the line profiler extension into the IPython notebook:"
     ]
    },
    {
     "cell_type": "code",
     "collapsed": false,
     "input": [
      "%load_ext line_profiler"
     ],
     "language": "python",
     "metadata": {},
     "outputs": []
    },
    {
     "cell_type": "markdown",
     "metadata": {},
     "source": [
      "Now we'll use the ``%lprun`` magic function to profile this function line-by-line:"
     ]
    },
    {
     "cell_type": "code",
     "collapsed": false,
     "input": [
      "%lprun -s -f nufft_python -T lp_results.txt nufft_python(x, y, 1000)\n",
      "%cat lp_results.txt"
     ],
     "language": "python",
     "metadata": {},
     "outputs": []
    },
    {
     "cell_type": "markdown",
     "metadata": {},
     "source": [
      "The output shows us where, line-by-line, the algorithm is spending the most time.\n",
      "We see that by far, the most time is being spent in the single ``for`` loop that we've used.\n",
      "This is pretty typical: loops are generally very slow in Python!\n",
      "\n",
      "One of the surest strategies for speeding-up your code is to use broadcasting tricks in NumPy to remove these kinds of large loops.\n",
      "This is a bit complicated here, but using the little-known ``at()`` method of NumPy's ufuncs, we can replace that loop with faster code."
     ]
    },
    {
     "cell_type": "markdown",
     "metadata": {},
     "source": [
      "## NUFFT with NumPy Broadcasting\n",
      "\n",
      "Let's rewrite the above implementation and use broadcasting tricks to elliminate the loops:"
     ]
    },
    {
     "cell_type": "code",
     "collapsed": false,
     "input": [
      "def nufft_numpy(x, y, M, df=1.0, iflag=1, eps=1E-15):\n",
      "    \"\"\"Fast Non-Uniform Fourier Transform\"\"\"\n",
      "    x, y, M = _check_inputs(x, y, M, df)\n",
      "    Msp, Mr, tau = _compute_grid_params(M, eps)\n",
      "    N = len(x)\n",
      "\n",
      "    # Construct the convolved grid ftau\n",
      "    ftau = np.zeros(Mr, dtype=y.dtype)\n",
      "    hx = 2 * np.pi / Mr\n",
      "    xmod = x % (2 * np.pi)\n",
      "    \n",
      "    # m is a 2D array of 2*Msp indices around each of N points\n",
      "    m = 1 + (xmod // hx).astype(int) + np.arange(-Msp, Msp)[:, np.newaxis]\n",
      "    spread = y * np.exp(-0.25 * (xmod - hx * m) ** 2 / tau)\n",
      "    \n",
      "    # np.add.at(x, i, y) <=> x[i] += y, but works for duplicate indices\n",
      "    np.add.at(ftau, m % Mr, spread)\n",
      "\n",
      "    # Compute the FFT on the convolved grid\n",
      "    if iflag < 0:\n",
      "        Ftau = (1 / Mr) * np.fft.fft(ftau)\n",
      "    else:\n",
      "        Ftau = np.fft.ifft(ftau)\n",
      "    Ftau = np.concatenate([Ftau[-(M//2):], Ftau[:M//2 + M % 2]])\n",
      "\n",
      "    # Deconvolve the grid using convolution theorem\n",
      "    k = nufftfreqs(M)\n",
      "    return (1 / N) * np.sqrt(np.pi / tau) * np.exp(tau * k ** 2) * Ftau"
     ],
     "language": "python",
     "metadata": {},
     "outputs": []
    },
    {
     "cell_type": "code",
     "collapsed": false,
     "input": [
      "test_nufft(nufft_numpy)\n",
      "test_nufft(nufft_python)\n",
      "test_nufft(nufft_fortran)"
     ],
     "language": "python",
     "metadata": {},
     "outputs": []
    },
    {
     "cell_type": "markdown",
     "metadata": {},
     "source": [
      "It worked! We gained nearly a factor of 4 speedup in replacing the loop with the ``np.add.at`` call.\n",
      "Still, though, we're sitting at about a factor of 10 slower than the Fortran version.\n",
      "The problem is that the ``np.add.at()`` call requires construction of some very large temporary arrays.\n",
      "If we want a faster execution time, we need to further optimize that main loop..."
     ]
    },
    {
     "cell_type": "markdown",
     "metadata": {},
     "source": [
      "## Optimization with Numba\n",
      "\n",
      "When NumPy broadcasting tricks aren't enough, there are a few options: you can write Fortran or C code directly, you can use [Cython](http://cython.org) or other tools as a bridge to include C code in your script, or you can use a tool like [Numba](http://cython.org) to speed-up your loops without ever leaving Python.\n",
      "\n",
      "Numba is a slick tool which runs Python functions through an LLVM just-in-time compiler, leading to orders-of-magnitude faster code for certain operations.\n",
      "In this case, we need to optimize what amounts to a nested for-loop, so Numba fits the bill perfectly.\n",
      "For clarity, we'll pull-out the portion of the code we want to numba-ize, and write the following:"
     ]
    },
    {
     "cell_type": "code",
     "collapsed": false,
     "input": [
      "import numba\n",
      "\n",
      "# nopython=True means an error will be raised if fast\n",
      "# compilation is not possible.\n",
      "@numba.jit(nopython=True)\n",
      "def build_grid(x, c, tau, Msp, ftau):\n",
      "    Mr = ftau.shape[0]\n",
      "    hx = 2 * np.pi / Mr\n",
      "    for i in range(x.shape[0]):\n",
      "        xi = x[i] % (2 * np.pi)\n",
      "        m = 1 + int(xi // hx)\n",
      "        for mm in range(-Msp, Msp):\n",
      "            ftau[(m + mm) % Mr] += c[i] * np.exp(-0.25 * (xi - hx * (m + mm)) ** 2 / tau)\n",
      "    return ftau\n",
      "\n",
      "\n",
      "def nufft_numba(x, c, M, df=1.0, eps=1E-15, iflag=1):\n",
      "    \"\"\"Fast Non-Uniform Fourier Transform with Numba\"\"\"\n",
      "    x, c, M = _check_inputs(x, c, M, df)\n",
      "    Msp, Mr, tau = _compute_grid_params(M, eps)\n",
      "    N = len(x)\n",
      "\n",
      "    # Construct the convolved grid\n",
      "    ftau = np.zeros(Mr, dtype=c.dtype)\n",
      "    ftau = build_grid(x, c, tau, Msp, ftau)\n",
      "\n",
      "    # Compute the FFT on the convolved grid\n",
      "    if iflag < 0:\n",
      "        Ftau = (1 / Mr) * np.fft.fft(ftau)\n",
      "    else:\n",
      "        Ftau = np.fft.ifft(ftau)\n",
      "    Ftau = np.concatenate([Ftau[-(M//2):], Ftau[:M//2 + M % 2]])\n",
      "\n",
      "    # Deconvolve the grid using convolution theorem\n",
      "    k = nufftfreqs(M)\n",
      "    return (1 / N) * np.sqrt(np.pi / tau) * np.exp(tau * k ** 2) * Ftau"
     ],
     "language": "python",
     "metadata": {},
     "outputs": []
    },
    {
     "cell_type": "markdown",
     "metadata": {},
     "source": [
      "Let's test this now:"
     ]
    },
    {
     "cell_type": "code",
     "collapsed": false,
     "input": [
      "test_nufft(nufft_numba)\n",
      "test_nufft(nufft_fortran)"
     ],
     "language": "python",
     "metadata": {},
     "outputs": []
    },
    {
     "cell_type": "markdown",
     "metadata": {},
     "source": [
      "Much better! We're now about a factor of 3 slower than the Fortran code, and we're still writing pure Python!\n",
      "\n",
      "One reason the Fortran implementation is so fast is that they spent a lot of time thinking about how to optimize the gaussian gridding.\n",
      "In particular, the exponential function in the inner loop ends up being very expensive simply because it's computed so many times.\n",
      "By using some mathematical identities, it's possible to split-up that expression into pieces that can be pre-computed and re-used within the loop.\n",
      "We'll try this with our Numba implementation here.\n",
      "The resulting code is a bit more obfuscated, but by picking your way through it you can probably see what's happening:"
     ]
    },
    {
     "cell_type": "code",
     "collapsed": false,
     "input": [
      "import numba\n",
      "\n",
      "@numba.jit(nopython=True)\n",
      "def build_grid_fast(x, c, tau, Msp, ftau, E3):\n",
      "    Mr = ftau.shape[0]\n",
      "    hx = 2 * np.pi / Mr\n",
      "    \n",
      "    # precompute some exponents\n",
      "    for j in range(Msp + 1):\n",
      "        E3[j] = np.exp(-(np.pi * j / Mr) ** 2 / tau)\n",
      "        \n",
      "    # spread values onto ftau\n",
      "    for i in range(x.shape[0]):\n",
      "        xi = x[i] % (2 * np.pi)\n",
      "        m = 1 + int(xi // hx)\n",
      "        xi = (xi - hx * m)\n",
      "        E1 = np.exp(-0.25 * xi ** 2 / tau)\n",
      "        E2 = np.exp((xi * np.pi) / (Mr * tau))\n",
      "        E2mm = 1\n",
      "        for mm in range(Msp):\n",
      "            ftau[(m + mm) % Mr] += c[i] * E1 * E2mm * E3[mm]\n",
      "            E2mm *= E2\n",
      "            ftau[(m - mm - 1) % Mr] += c[i] * E1 / E2mm * E3[mm + 1]\n",
      "    return ftau\n",
      "\n",
      "\n",
      "def nufft_numba_fast(x, c, M, df=1.0, eps=1E-15, iflag=1):\n",
      "    \"\"\"Fast Non-Uniform Fourier Transform with Numba\"\"\"\n",
      "    x, c, M = _check_inputs(x, c, M, df)\n",
      "    Msp, Mr, tau = _compute_grid_params(M, eps)\n",
      "    N = len(x)\n",
      "\n",
      "    # Construct the convolved grid\n",
      "    ftau = np.zeros(Mr, dtype=c.dtype)\n",
      "    E3 = np.zeros(Msp + 1, dtype=x.dtype)\n",
      "    build_grid_fast(x, c, tau, Msp, ftau, E3)\n",
      "\n",
      "    # Compute the FFT on the convolved grid\n",
      "    if iflag < 0:\n",
      "        Ftau = (1 / Mr) * np.fft.fft(ftau)\n",
      "    else:\n",
      "        Ftau = np.fft.ifft(ftau)\n",
      "    Ftau = np.concatenate([Ftau[-(M//2):], Ftau[:M//2 + M % 2]])\n",
      "\n",
      "    # Deconvolve the grid using convolution theorem\n",
      "    k = nufftfreqs(M)\n",
      "    return (1 / N) * np.sqrt(np.pi / tau) * np.exp(tau * k ** 2) * Ftau"
     ],
     "language": "python",
     "metadata": {},
     "outputs": []
    },
    {
     "cell_type": "markdown",
     "metadata": {},
     "source": [
      "Let's test the result:"
     ]
    },
    {
     "cell_type": "code",
     "collapsed": false,
     "input": [
      "test_nufft(nufft_numba_fast)\n",
      "test_nufft(nufft_fortran)"
     ],
     "language": "python",
     "metadata": {},
     "outputs": []
    },
    {
     "cell_type": "markdown",
     "metadata": {},
     "source": [
      "This is looking good! With a bit of effort we are now within a factor of 2 of the Fortran speed, and we retain all the advantages of having pure Python code!"
     ]
    },
    {
     "cell_type": "markdown",
     "metadata": {},
     "source": [
      "## Final Timing Comparison\n",
      "\n",
      "For good measure, let's take a look at the scaling with $M$ for all the fast algorithms we created.\n",
      "We'll compute the times for a range of input sizes for each algorithm.\n",
      "Be aware that the following code will take quite a while to run!"
     ]
    },
    {
     "cell_type": "code",
     "collapsed": false,
     "input": [
      "%matplotlib inline\n",
      "import matplotlib.pyplot as plt\n",
      "# use seaborn for nice default plot settings\n",
      "import seaborn; seaborn.set()"
     ],
     "language": "python",
     "metadata": {},
     "outputs": []
    },
    {
     "cell_type": "code",
     "collapsed": false,
     "input": [
      "Mrange = (2 ** np.arange(3, 18)).astype(int)\n",
      "kwds = dict(eps=1E-8, iflag=-1)\n",
      "\n",
      "t_python = []\n",
      "t_numpy = []\n",
      "t_numba = []\n",
      "t_numba_fast = []\n",
      "t_fortran = []\n",
      "\n",
      "for M in Mrange:\n",
      "    x = 100 * np.random.random(M)\n",
      "    c = np.exp(1j * x)\n",
      "    \n",
      "    t1 = %timeit -oq nufft_python(x, c, M, **kwds)\n",
      "    t2 = %timeit -oq nufft_numpy(x, c, M, **kwds)\n",
      "    t3 = %timeit -oq nufft_numba(x, c, M, **kwds)\n",
      "    t4 = %timeit -oq nufft_numba_fast(x, c, M, **kwds)\n",
      "    t5 = %timeit -oq nufft_fortran(x, c, M, **kwds)\n",
      "    \n",
      "    t_python.append(t1.best)\n",
      "    t_numpy.append(t2.best)\n",
      "    t_numba.append(t3.best)\n",
      "    t_numba_fast.append(t4.best)\n",
      "    t_fortran.append(t5.best)"
     ],
     "language": "python",
     "metadata": {},
     "outputs": []
    },
    {
     "cell_type": "code",
     "collapsed": false,
     "input": [
      "plt.loglog(Mrange, t_python, label='python')\n",
      "plt.loglog(Mrange, t_numpy, label='numpy')\n",
      "plt.loglog(Mrange, t_numba, label='numba #1')\n",
      "plt.loglog(Mrange, t_numba_fast, label='numba #2')\n",
      "plt.loglog(Mrange, t_fortran, label='fortran')\n",
      "plt.legend(loc='upper left')\n",
      "plt.xlabel('Number of Elements')\n",
      "plt.ylabel('Execution Time (s)');"
     ],
     "language": "python",
     "metadata": {},
     "outputs": []
    },
    {
     "cell_type": "markdown",
     "metadata": {},
     "source": [
      "As we see, all the algorithms scale as $\\sim O[N\\log N]$ in the large $N$ limit, albeit with very different constants of proportionality.\n",
      "In the end, what we've managed to do is to create a fairly fast implementation of a non-trivial algorithm.\n",
      "The implementation is built in pure Python with Numba, and thus has all the advantages listed above.\n",
      "Additionally, if you have access to [Numba pro](http://docs.continuum.io/numbapro/), this means that with just a few extra keystrokes you can push this computation down to the GPU, giving you potentially even greater speedups."
     ]
    },
    {
     "cell_type": "markdown",
     "metadata": {},
     "source": [
      "## Conclusion\n",
      "\n",
      "I hope you've enjoyed this exploration of how to write fast numerical code in Python.\n",
      "If you're interested in using the pure-Python NUFFT implementation, take a look at http://github.com/jakevdp/nufftpy/.\n",
      "It contains a packaged and unit-tested version of some of the above code, as well as a growing compendium of related routines."
     ]
    }
   ],
   "metadata": {}
  }
 ]
}