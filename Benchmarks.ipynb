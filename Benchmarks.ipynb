{
 "metadata": {
  "name": "",
  "signature": "sha256:28fee8377f98da6972caf6247d7e81d6ca5f14273d1a952e42581bb70b186474"
 },
 "nbformat": 3,
 "nbformat_minor": 0,
 "worksheets": [
  {
   "cells": [
    {
     "cell_type": "markdown",
     "metadata": {},
     "source": [
      "# Benchmarks\n",
      "\n",
      "This script shows benchmarks of the Fortran implementation of NUFFT (python wrappers at http://github.com/dfm/python-nufft/) and the pure-Python implementation of NUFFT (http://github.com/jakevdp/nufftpy/).\n",
      "Both are $O[N\\log N]$ for $N$ observations and $N$ frequencies, but the fortran version is several times faster than the pure Python version."
     ]
    },
    {
     "cell_type": "code",
     "collapsed": false,
     "input": [
      "%matplotlib inline\n",
      "import numpy as np\n",
      "import matplotlib.pyplot as plt\n",
      "import seaborn; seaborn.set()"
     ],
     "language": "python",
     "metadata": {},
     "outputs": [],
     "prompt_number": 1
    },
    {
     "cell_type": "code",
     "collapsed": false,
     "input": [
      "import nufft\n",
      "help(nufft.nufft1)"
     ],
     "language": "python",
     "metadata": {},
     "outputs": [
      {
       "output_type": "stream",
       "stream": "stdout",
       "text": [
        "Help on function nufft1 in module nufft.nufft:\n",
        "\n",
        "nufft1(x, y, ms, df=1.0, eps=1e-15, iflag=1, direct=False)\n",
        "\n"
       ]
      }
     ],
     "prompt_number": 2
    },
    {
     "cell_type": "code",
     "collapsed": false,
     "input": [
      "import nufftpy\n",
      "help(nufftpy.nufft1)"
     ],
     "language": "python",
     "metadata": {},
     "outputs": [
      {
       "output_type": "stream",
       "stream": "stdout",
       "text": [
        "Help on function nufft1 in module nufftpy.nufft:\n",
        "\n",
        "nufft1(x, c, M, df=1.0, eps=1e-15, iflag=1, direct=False, fast_gridding=True)\n",
        "    Fast Non-Uniform Fourier Transform in 1 Dimension\n",
        "    \n",
        "    Compute the non-uniform FFT of one-dimensional points x with complex\n",
        "    values c. Result is computed at frequencies (df * m)\n",
        "    for integer m in the range -M/2 < m < M/2.\n",
        "    \n",
        "    Parameters\n",
        "    ----------\n",
        "    x, c : array_like\n",
        "        real locations x and complex values c of the points to be transformed.\n",
        "    M, df : int & float\n",
        "        Parameters specifying the desired frequency grid. Transform will be\n",
        "        computed at frequencies df * (-(M//2) + arange(M))\n",
        "    eps : float\n",
        "        The desired approximate error for the FFT result. Must be in range\n",
        "        1E-33 < eps < 1E-1, though be aware that the errors are only well\n",
        "        calibrated near the range 1E-12 ~ 1E-6. eps is not referenced if\n",
        "        direct = True.\n",
        "    iflag : float\n",
        "        if iflag<0, compute the transform with a negative exponent.\n",
        "        if iflag>=0, compute the transform with a positive exponent.\n",
        "    direct : bool (default = False)\n",
        "        If True, then use the slower (but more straightforward)\n",
        "        direct Fourier transform to compute the result.\n",
        "    fast_gridding : bool (default = True)\n",
        "        If True, use the fast Gaussian grid algorithm of Greengard & Lee (2004)\n",
        "        Otherwise, use a more naive gridding approach\n",
        "    \n",
        "    Returns\n",
        "    -------\n",
        "    Fk : ndarray\n",
        "        The complex discrete Fourier transform\n",
        "    \n",
        "    See Also\n",
        "    --------\n",
        "    nufftfreqs : compute the frequencies of the nufft results\n",
        "\n"
       ]
      }
     ],
     "prompt_number": 3
    },
    {
     "cell_type": "code",
     "collapsed": false,
     "input": [
      "M = 100000\n",
      "x = 100 * np.random.random(M)\n",
      "c = np.exp(1j * x)\n",
      "\n",
      "kwds = dict(eps=1E-8, iflag=-1, direct=False)\n",
      "\n",
      "k1 = nufft.nufft1freqs(M)\n",
      "F1 = nufft.nufft1(x, c, M, **kwds)\n",
      "\n",
      "k2 = nufftpy.nufftfreqs(M)\n",
      "F2 = nufftpy.nufft1(x, c, M, **kwds)\n",
      "\n",
      "print(np.allclose(k1, k2))\n",
      "print(np.allclose(F1, F2, atol=1E-8))"
     ],
     "language": "python",
     "metadata": {},
     "outputs": [
      {
       "output_type": "stream",
       "stream": "stdout",
       "text": [
        "True\n",
        "True\n"
       ]
      }
     ],
     "prompt_number": 4
    },
    {
     "cell_type": "code",
     "collapsed": false,
     "input": [
      "Mrange = (2 ** np.arange(3, 18)).astype(int)\n",
      "kwds = dict(eps=1E-8, iflag=-1, direct=False)\n",
      "\n",
      "nufft_times = []\n",
      "nufftpy_times = []\n",
      "\n",
      "for M in Mrange:\n",
      "    x = 100 * np.random.random(M)\n",
      "    c = np.exp(1j * x)\n",
      "    \n",
      "    t1 = %timeit -oq nufft.nufft1(x, c, M, **kwds)\n",
      "    t2 = %timeit -oq nufftpy.nufft1(x, c, M, **kwds)\n",
      "    \n",
      "    nufft_times.append(t1.best)\n",
      "    nufftpy_times.append(t2.best)\n",
      "    \n",
      "    #print(\"{0:d}: {1:.2e} {2:.2e}\".format(M, t1.best, t2.best),\n",
      "    #      flush=True)"
     ],
     "language": "python",
     "metadata": {},
     "outputs": [],
     "prompt_number": 5
    },
    {
     "cell_type": "code",
     "collapsed": false,
     "input": [
      "plt.loglog(Mrange, nufftpy_times, label='nufft python')\n",
      "plt.loglog(Mrange, nufft_times, label='nufft fortran')\n",
      "plt.legend(loc='upper left')\n",
      "plt.xlabel('Number of Elements')\n",
      "plt.ylabel('Execution Time (s)');"
     ],
     "language": "python",
     "metadata": {},
     "outputs": [
      {
       "metadata": {},
       "output_type": "display_data",
       "png": "[encoded data removed]",
       "text": [
        "<matplotlib.figure.Figure at 0x108c49ad0>"
       ]
      }
     ],
     "prompt_number": 6
    },
    {
     "cell_type": "markdown",
     "metadata": {},
     "source": [
      "  "
     ]
    }
   ],
   "metadata": {}
  }
 ]
}